{
 "cells": [
  {
   "cell_type": "code",
   "execution_count": 1,
   "id": "0ba46fe9-2d56-40a8-bfbc-0762cf8a13d1",
   "metadata": {},
   "outputs": [],
   "source": [
    "import torch, dgl\n",
    "import numpy as np\n",
    "from dgl.data.utils import save_graphs, load_graphs\n",
    "\n",
    "from tqdm import tqdm\n",
    "from glob import glob\n",
    "\n",
    "from rdkit import Chem, RDLogger\n",
    "RDLogger.DisableLog('rdApp.*')\n",
    "\n",
    "from atom_feature import *\n",
    "from utils import load_obj, calculate_pair_distance\n",
    "from collections import defaultdict"
   ]
  },
  {
   "cell_type": "code",
   "execution_count": 2,
   "id": "2cb0686d-ba51-4a9b-b477-c244fd4e65b5",
   "metadata": {},
   "outputs": [],
   "source": [
    "proteins = load_obj('/data/PLBA/pocket_8A.pickle')\n",
    "ligands = load_obj(\"/data/PLBA/ligand.pickle\")\n",
    "\n",
    "train_y = { line.split()[0].lower(): torch.tensor( [float(line.split()[1])] ).float() for line in open('../data/BindingAffinity/PDBBind_v2020.txt').readlines() }\n",
    "test_y  = { line.split()[0].lower(): torch.tensor(  [float(line.split()[1])] ).float() for line in open('../data/BindingAffinity/core-set.txt').readlines() }"
   ]
  },
  {
   "cell_type": "code",
   "execution_count": 3,
   "id": "175daff7-c9a2-4209-a442-3796d2bd3ac6",
   "metadata": {
    "tags": []
   },
   "outputs": [],
   "source": [
    "def mol_to_graph( mol ):\n",
    "    n     = mol.GetNumAtoms()\n",
    "    coord = get_mol_coordinate(mol)\n",
    "    h     = get_atom_feature(mol)\n",
    "    adj   = get_bond_feature(mol).to_sparse(sparse_dim=2)\n",
    "    \n",
    "    u = adj.indices()[0]\n",
    "    v = adj.indices()[1]\n",
    "    e = adj.values()\n",
    "\n",
    "    g = dgl.DGLGraph()\n",
    "    g.add_nodes(n)\n",
    "    g.add_edges(u, v)\n",
    "    \n",
    "    g.ndata['feats'] = h\n",
    "    g.ndata['coord'] = coord\n",
    "    g.edata['feats'] = e\n",
    "    \n",
    "    g.ndata['pos_enc'] = dgl.random_walk_pe(g, 20)\n",
    "\n",
    "    return g\n",
    "\n",
    "def complex_to_graph(pmol, lmol):\n",
    "    pcoord = get_mol_coordinate(pmol)\n",
    "    lcoord = get_mol_coordinate(lmol)\n",
    "    ccoord = torch.cat( [pcoord, lcoord] )\n",
    "    \n",
    "    npa = pmol.GetNumAtoms()\n",
    "    nla = lmol.GetNumAtoms()\n",
    "    \n",
    "    distance = calculate_pair_distance(pcoord, lcoord)\n",
    "    u, v = torch.where( distance < 5 ) ### u - src protein node, v - dst ligand node\n",
    "\n",
    "    distance = distance[ u, v ].unsqueeze(-1)\n",
    "    \n",
    "    interact_feature = get_interact_feature( pmol, lmol, u, v  )\n",
    "    distance_feature = get_distance_feature(distance).squeeze(-1)\n",
    "\n",
    "    e = torch.cat( [interact_feature, distance_feature], dim=1)\n",
    "    e = torch.cat( [e, e] )\n",
    "    \n",
    "    distance = torch.cat( [ distance, distance] )\n",
    "    \n",
    "    u, v = torch.cat( [u, v+npa] ), torch.cat( [v+npa, u] )\n",
    "    \n",
    "    g = dgl.DGLGraph()\n",
    "    g.add_nodes( npa + nla )\n",
    "    g.add_edges( u, v )\n",
    "\n",
    "    g.ndata['coord'] = ccoord\n",
    "    g.edata['feats'] = e\n",
    "    g.edata['distance'] = distance\n",
    "    \n",
    "    return g"
   ]
  },
  {
   "cell_type": "code",
   "execution_count": 4,
   "id": "f7344731-0a96-4dba-99d7-42a994f681ae",
   "metadata": {
    "tags": []
   },
   "outputs": [],
   "source": [
    "decoy_ligands = { f.split('/')[-2]: f for f in glob('/data/CASF-2016/decoys_docking/*/*') if '.sdf' in f }"
   ]
  },
  {
   "cell_type": "code",
   "execution_count": 12,
   "id": "086c3689-3fb6-4f0f-bcb2-a1eab1185b69",
   "metadata": {
    "tags": []
   },
   "outputs": [],
   "source": [
    "def get_ligand_name_from_sdf( sdf ):\n",
    "    names = []\n",
    "    lines = open( sdf ).readlines()\n",
    "    for idx, line in enumerate( lines ):\n",
    "        if line[:3] == ' Op':\n",
    "            lignad_name = lines[idx -1 ]\n",
    "            names.append(lignad_name[:-1)\n",
    "    return names"
   ]
  },
  {
   "cell_type": "code",
   "execution_count": 20,
   "id": "d6e3d9c5-cc96-499d-9b60-7a519069240a",
   "metadata": {
    "tags": []
   },
   "outputs": [
    {
     "name": "stderr",
     "output_type": "stream",
     "text": [
      "  0%|                                                                                                                                                                  | 0/285 [00:00<?, ?it/s]/home/sim/anaconda3/envs/PLBA/lib/python3.9/site-packages/dgl/heterograph.py:92: DGLWarning: Recommend creating graphs by `dgl.graph(data)` instead of `dgl.DGLGraph(data)`.\n",
      "  dgl_warning(\n",
      "  0%|                                                                                                                                                                  | 0/285 [00:00<?, ?it/s]\n"
     ]
    }
   ],
   "source": [
    "for ppdb in tqdm(decoy_ligands):\n",
    "    pmol = proteins[ppdb]\n",
    "    \n",
    "    lmol_names = get_ligand_name_from_sdf( decoy_ligands[ppdb] )\n",
    "    \n",
    "    lmols = Chem.SDMolSupplier( decoy_ligands[ppdb] )\n",
    "        \n",
    "    pmol = proteins[ppdb]\n",
    "    gp = mol_to_graph(pmol)\n",
    "    \n",
    "    for idx, lmol in enumerate(lmols):\n",
    "        try:\n",
    "            gl = mol_to_graph(lmol)\n",
    "            gc = complex_to_graph(pmol, lmol)\n",
    "\n",
    "            save_graphs(f'/data/PLBA/docking-power_graph/{ppdb}/{ppdb}_protein_{lmol_names[idx]}.bin', gp)\n",
    "            save_graphs(f'/data/PLBA/docking-power_graph/{ppdb}/{ppdb}_ligand_{lmol_names[idx]}.bin', gl)\n",
    "            save_graphs(f'/data/PLBA/docking-power_graph/{ppdb}/{ppdb}_complex_{lmol_names[idx]}.bin', gc)\n",
    "\n",
    "        except Exception as E:        \n",
    "            print(E, ppdb, lmol_names[idx])\n",
    "    break"
   ]
  },
  {
   "cell_type": "code",
   "execution_count": null,
   "id": "4852ca8c-5557-4047-aa0b-cac8f7e09920",
   "metadata": {},
   "outputs": [],
   "source": []
  }
 ],
 "metadata": {
  "kernelspec": {
   "display_name": "PLBA",
   "language": "python",
   "name": "plba"
  },
  "language_info": {
   "codemirror_mode": {
    "name": "ipython",
    "version": 3
   },
   "file_extension": ".py",
   "mimetype": "text/x-python",
   "name": "python",
   "nbconvert_exporter": "python",
   "pygments_lexer": "ipython3",
   "version": "3.9.16"
  }
 },
 "nbformat": 4,
 "nbformat_minor": 5
}
