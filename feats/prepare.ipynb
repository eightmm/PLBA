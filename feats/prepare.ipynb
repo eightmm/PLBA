{
 "cells": [
  {
   "cell_type": "code",
   "execution_count": 3,
   "id": "0ba46fe9-2d56-40a8-bfbc-0762cf8a13d1",
   "metadata": {
    "tags": []
   },
   "outputs": [],
   "source": [
    "import torch\n",
    "\n",
    "import subprocess as sp\n",
    "\n",
    "from tqdm.auto import tqdm\n",
    "from glob import glob\n",
    "from collections import defaultdict\n",
    "\n",
    "from rdkit import Chem\n",
    "from rdkit import RDLogger \n",
    "RDLogger.DisableLog('rdApp.*')\n",
    "\n",
    "from utils import load_obj, save_obj"
   ]
  },
  {
   "cell_type": "code",
   "execution_count": 4,
   "id": "50fac931-7c26-4124-a98c-741e1d2f0305",
   "metadata": {
    "tags": []
   },
   "outputs": [],
   "source": [
    "def get_ligand_mol(l_f):\n",
    "    mol = Chem.MolFromMol2File(l_f)\n",
    "    if mol == None:\n",
    "        mol = Chem.SDMolSupplier(f'{l_f[:-5]}.sdf')[0]\n",
    "    if mol == None:\n",
    "        sp.run(f'obabel -imol2 {l_f} -omol2 -O {l_f[:-5]}_fix.mol2', shell=True, capture_output=True)\n",
    "        mol = Chem.MolFromMol2File(f'{l_f[:-5]}_fix.mol2')\n",
    "        sp.run(f'rm {l_f[:-5]}_fix.mol2', shell=True, capture_output=True)\n",
    "    if mol == None:\n",
    "        sp.run(f'obabel -imol2 {l_f} -osdf -O {l_f[:-5]}_fix.sdf', shell=True, capture_output=True)\n",
    "        mol = Chem.SDMolSupplier(f'{l_f[:-5]}_fix.sdf')[0]\n",
    "        sp.run(f'rm {l_f[:-5]}_fix.sdf', shell=True, capture_output=True)    \n",
    "    if mol == None:\n",
    "        sp.run(f'obabel -isdf {l_f[:-5]}.sdf -omol2 -O {l_f[:-5]}_fix.mol2', shell=True, capture_output=True)\n",
    "        mol = Chem.MolFromMol2File(f'{l_f[:-5]}_fix.mol2')\n",
    "        sp.run(f'rm {l_f[:-5]}_fix.mol2', shell=True, capture_output=True)\n",
    "    if mol == None:\n",
    "        sp.run(f'obabel -isdf {l_f[:-5]}.sdf -osdf -O {l_f[:-5]}_fix.sdf', shell=True, capture_output=True)\n",
    "        mol = Chem.SDMolSupplier(f'{l_f[:-5]}_fix.sdf')[0]\n",
    "        sp.run(f'rm {l_f[:-5]}_fix.sdf', shell=True, capture_output=True)\n",
    "    return mol"
   ]
  },
  {
   "cell_type": "code",
   "execution_count": 7,
   "id": "95ae11c3-1559-4741-af0d-4e0172570e33",
   "metadata": {
    "tags": []
   },
   "outputs": [],
   "source": [
    "refined_lig = [ file for file in  glob('/data/PDBbind/refined-set/*/*') if 'mol2' in file ]\n",
    "other_lig = [ file for file in  glob('/data/PDBbind/v2020-other-PL/*/*') if 'mol2' in file ]\n",
    "total_lig = refined_lig + other_lig"
   ]
  },
  {
   "cell_type": "code",
   "execution_count": 10,
   "id": "4bb9ede7-bbc7-4397-9d26-5fc1a905544a",
   "metadata": {
    "tags": []
   },
   "outputs": [
    {
     "name": "stderr",
     "output_type": "stream",
     "text": [
      "100%|███████████████████████████████████████████████████████████████████████████████████████████████████████████████████████████████████████████████████| 19446/19446 [00:20<00:00, 961.08it/s]\n"
     ]
    }
   ],
   "source": [
    "ligs = {}\n",
    "for lig in tqdm( total_lig ):\n",
    "    pdb = lig.split('/')[-2]\n",
    "    try:\n",
    "        mol = get_ligand_mol( lig )\n",
    "        if mol != None:\n",
    "            ligs[pdb] = mol\n",
    "        else:\n",
    "            pass\n",
    "    except:\n",
    "        pass\n",
    "    # break"
   ]
  },
  {
   "cell_type": "code",
   "execution_count": 14,
   "id": "78d17957-2dc1-4a7d-b70e-58fdb9998ced",
   "metadata": {
    "tags": []
   },
   "outputs": [],
   "source": [
    "save_obj( ligs, '/data/PDBbind/ligand' )"
   ]
  },
  {
   "cell_type": "code",
   "execution_count": 17,
   "id": "2cb0686d-ba51-4a9b-b477-c244fd4e65b5",
   "metadata": {
    "tags": []
   },
   "outputs": [],
   "source": [
    "refined_prot = [ file for file in glob(\"/data/PDBbind/refined-set/*/*\") if 'protein.pdb' in file ]\n",
    "other_prot   = [ file for file in glob(\"/data/PDBbind/v2020-other-PL/*/*\") if 'protein.pdb' in file ]\n",
    "\n",
    "total_prot = refined_prot + other_prot\n",
    "proteins = { file.split(\"/\")[-1][:4]: file for file in total_prot }"
   ]
  },
  {
   "cell_type": "code",
   "execution_count": 19,
   "id": "fbc0e681-9f49-4ae3-afa3-725c7a112af6",
   "metadata": {
    "tags": []
   },
   "outputs": [],
   "source": [
    "def get_protein_coordinate(pdb_f):\n",
    "    return torch.tensor( [ [ float(line[30:38]), float(line[38:46]), float(line[46:54]) ] for line in open(pdb_f).readlines() if line[0:4] in ['ATOM', 'HETA'] and 'H' not in line[12:14] and 'HOH' not in line[17:20] ] )\n",
    "\n",
    "def get_ligand_coordinate(mol):\n",
    "    return mol.GetConformers()[0].GetPositions()\n",
    "\n",
    "def calculate_atom_pair_distance(arr1, arr2):\n",
    "    return torch.linalg.norm( arr1[:, None, :] - arr2[None, :, :], axis = -1)\n",
    "\n",
    "def select_pocket_atom(pair_distance, cut_off):\n",
    "    return torch.where( pair_distance < cut_off )[0]\n",
    "    \n",
    "def get_pocket_in_protein(pdb_f, select_index):\n",
    "    total_atom = [ line for line in open(pdb_f).readlines() if line[0:4] in ['ATOM', 'HETA'] and 'H' not in line[12:14] and 'HOH' not in line[17:20] ]\n",
    "    select_atom = [ line for idx, line in enumerate(total_atom) if idx in select_index ]\n",
    "\n",
    "    select_residue = defaultdict(set)\n",
    "    for idx, line in enumerate(total_atom):\n",
    "        if idx in select_index:\n",
    "            select_residue[line[21]].add( int(line[22:26]))\n",
    "    \n",
    "    total_lines = \"\"\"\"\"\"\n",
    "    for idx, line in enumerate(total_atom):\n",
    "        if int( line[22:26] ) in select_residue[ line[21] ]:\n",
    "            total_lines += line\n",
    "    \n",
    "    mol = Chem.MolFromPDBBlock( total_lines)\n",
    "    Chem.AssignAtomChiralTagsFromStructure(mol)\n",
    "    \n",
    "    # a = mol.GetAtoms()\n",
    "    # for atom in a:\n",
    "    #     sym = atom.GetSymbol()\n",
    "    #     if sym not in ['C', 'O', 'N','S', 'P', 'Se', 'F', 'Cl', 'Br', 'I', ]:\n",
    "    #         print(sym, pdb_f)\n",
    "    \n",
    "    return mol\n",
    "\n",
    "def get_pocket_residue(pdb_f, mol2_f):\n",
    "    prot_xyz = get_protein_atom_xyz(pdb_f) \n",
    "    lig_xyz  = get_ligand_atom_xyz(mol2_f)\n",
    "    \n",
    "    pair_distance = calculate_atom_pair_distance(prot_xyz, lig_xyz)    \n",
    "    select_prot_atom_index = select_pocket_atom(pair_distance, cut_off=8)\n",
    "    \n",
    "    return get_pocket_in_protein(pdb_f, select_prot_atom_index)"
   ]
  },
  {
   "cell_type": "code",
   "execution_count": 24,
   "id": "5d2d32ff-9d3d-46f8-ac77-a891f898cd15",
   "metadata": {
    "tags": []
   },
   "outputs": [
    {
     "name": "stderr",
     "output_type": "stream",
     "text": [
      "  3%|█████▏                                                                                                                                                | 669/19443 [00:32<17:34, 17.81it/s]"
     ]
    },
    {
     "name": "stdout",
     "output_type": "stream",
     "text": [
      "Python argument types in\n",
      "    rdkit.Chem.rdmolops.AssignAtomChiralTagsFromStructure(NoneType)\n",
      "did not match C++ signature:\n",
      "    AssignAtomChiralTagsFromStructure(RDKit::ROMol {lvalue} mol, int confId=-1, bool replaceExistingTags=True) /data/PDBbind/refined-set/1r1h/1r1h_protein.pdb\n"
     ]
    },
    {
     "name": "stderr",
     "output_type": "stream",
     "text": [
      "  4%|██████▋                                                                                                                                               | 859/19443 [00:41<13:04, 23.68it/s]"
     ]
    },
    {
     "name": "stdout",
     "output_type": "stream",
     "text": [
      "Python argument types in\n",
      "    rdkit.Chem.rdmolops.AssignAtomChiralTagsFromStructure(NoneType)\n",
      "did not match C++ signature:\n",
      "    AssignAtomChiralTagsFromStructure(RDKit::ROMol {lvalue} mol, int confId=-1, bool replaceExistingTags=True) /data/PDBbind/refined-set/4abd/4abd_protein.pdb\n"
     ]
    },
    {
     "name": "stderr",
     "output_type": "stream",
     "text": [
      " 10%|███████████████▍                                                                                                                                     | 2016/19443 [01:39<13:23, 21.68it/s]"
     ]
    },
    {
     "name": "stdout",
     "output_type": "stream",
     "text": [
      "Python argument types in\n",
      "    rdkit.Chem.rdmolops.AssignAtomChiralTagsFromStructure(NoneType)\n",
      "did not match C++ signature:\n",
      "    AssignAtomChiralTagsFromStructure(RDKit::ROMol {lvalue} mol, int confId=-1, bool replaceExistingTags=True) /data/PDBbind/refined-set/2a5b/2a5b_protein.pdb\n"
     ]
    },
    {
     "name": "stderr",
     "output_type": "stream",
     "text": [
      " 12%|█████████████████▌                                                                                                                                   | 2291/19443 [01:52<10:26, 27.37it/s]"
     ]
    },
    {
     "name": "stdout",
     "output_type": "stream",
     "text": [
      "Python argument types in\n",
      "    rdkit.Chem.rdmolops.AssignAtomChiralTagsFromStructure(NoneType)\n",
      "did not match C++ signature:\n",
      "    AssignAtomChiralTagsFromStructure(RDKit::ROMol {lvalue} mol, int confId=-1, bool replaceExistingTags=True) /data/PDBbind/refined-set/2zjw/2zjw_protein.pdb\n"
     ]
    },
    {
     "name": "stderr",
     "output_type": "stream",
     "text": [
      " 12%|██████████████████▏                                                                                                                                  | 2374/19443 [01:56<12:30, 22.74it/s]"
     ]
    },
    {
     "name": "stdout",
     "output_type": "stream",
     "text": [
      "Python argument types in\n",
      "    rdkit.Chem.rdmolops.AssignAtomChiralTagsFromStructure(NoneType)\n",
      "did not match C++ signature:\n",
      "    AssignAtomChiralTagsFromStructure(RDKit::ROMol {lvalue} mol, int confId=-1, bool replaceExistingTags=True) /data/PDBbind/refined-set/1cps/1cps_protein.pdb\n"
     ]
    },
    {
     "name": "stderr",
     "output_type": "stream",
     "text": [
      " 27%|████████████████████████████████████████▌                                                                                                            | 5300/19443 [04:21<15:02, 15.68it/s]"
     ]
    },
    {
     "name": "stdout",
     "output_type": "stream",
     "text": [
      "Python argument types in\n",
      "    rdkit.Chem.rdmolops.AssignAtomChiralTagsFromStructure(NoneType)\n",
      "did not match C++ signature:\n",
      "    AssignAtomChiralTagsFromStructure(RDKit::ROMol {lvalue} mol, int confId=-1, bool replaceExistingTags=True) /data/PDBbind/refined-set/1g7v/1g7v_protein.pdb\n"
     ]
    },
    {
     "name": "stderr",
     "output_type": "stream",
     "text": [
      " 29%|███████████████████████████████████████████▋                                                                                                         | 5700/19443 [04:44<09:00, 25.44it/s]"
     ]
    },
    {
     "name": "stdout",
     "output_type": "stream",
     "text": [
      "Python argument types in\n",
      "    rdkit.Chem.rdmolops.AssignAtomChiralTagsFromStructure(NoneType)\n",
      "did not match C++ signature:\n",
      "    AssignAtomChiralTagsFromStructure(RDKit::ROMol {lvalue} mol, int confId=-1, bool replaceExistingTags=True) /data/PDBbind/v2020-other-PL/5xfj/5xfj_protein.pdb\n"
     ]
    },
    {
     "name": "stderr",
     "output_type": "stream",
     "text": [
      " 31%|██████████████████████████████████████████████▍                                                                                                      | 6057/19443 [05:04<09:06, 24.50it/s]"
     ]
    },
    {
     "name": "stdout",
     "output_type": "stream",
     "text": [
      "Python argument types in\n",
      "    rdkit.Chem.rdmolops.AssignAtomChiralTagsFromStructure(NoneType)\n",
      "did not match C++ signature:\n",
      "    AssignAtomChiralTagsFromStructure(RDKit::ROMol {lvalue} mol, int confId=-1, bool replaceExistingTags=True) /data/PDBbind/v2020-other-PL/3udn/3udn_protein.pdb\n"
     ]
    },
    {
     "name": "stderr",
     "output_type": "stream",
     "text": [
      " 32%|███████████████████████████████████████████████                                                                                                      | 6142/19443 [05:08<10:48, 20.51it/s]"
     ]
    },
    {
     "name": "stdout",
     "output_type": "stream",
     "text": [
      "'3zp9' /data/PDBbind/v2020-other-PL/3zp9/3zp9_protein.pdb\n"
     ]
    },
    {
     "name": "stderr",
     "output_type": "stream",
     "text": [
      " 32%|████████████████████████████████████████████████                                                                                                     | 6272/19443 [05:16<09:02, 24.28it/s]"
     ]
    },
    {
     "name": "stdout",
     "output_type": "stream",
     "text": [
      "Python argument types in\n",
      "    rdkit.Chem.rdmolops.AssignAtomChiralTagsFromStructure(NoneType)\n",
      "did not match C++ signature:\n",
      "    AssignAtomChiralTagsFromStructure(RDKit::ROMol {lvalue} mol, int confId=-1, bool replaceExistingTags=True) /data/PDBbind/v2020-other-PL/4z7f/4z7f_protein.pdb\n"
     ]
    },
    {
     "name": "stderr",
     "output_type": "stream",
     "text": [
      " 34%|██████████████████████████████████████████████████▊                                                                                                  | 6630/19443 [05:36<08:27, 25.22it/s]"
     ]
    },
    {
     "name": "stdout",
     "output_type": "stream",
     "text": [
      "'2ci9' /data/PDBbind/v2020-other-PL/2ci9/2ci9_protein.pdb\n"
     ]
    },
    {
     "name": "stderr",
     "output_type": "stream",
     "text": [
      " 36%|█████████████████████████████████████████████████████▏                                                                                               | 6933/19443 [05:52<10:37, 19.62it/s]"
     ]
    },
    {
     "name": "stdout",
     "output_type": "stream",
     "text": [
      "Python argument types in\n",
      "    rdkit.Chem.rdmolops.AssignAtomChiralTagsFromStructure(NoneType)\n",
      "did not match C++ signature:\n",
      "    AssignAtomChiralTagsFromStructure(RDKit::ROMol {lvalue} mol, int confId=-1, bool replaceExistingTags=True) /data/PDBbind/v2020-other-PL/5lp6/5lp6_protein.pdb\n"
     ]
    },
    {
     "name": "stderr",
     "output_type": "stream",
     "text": [
      " 36%|█████████████████████████████████████████████████████▍                                                                                               | 6971/19443 [05:54<12:40, 16.40it/s]"
     ]
    },
    {
     "name": "stdout",
     "output_type": "stream",
     "text": [
      "'3fxz' /data/PDBbind/v2020-other-PL/3fxz/3fxz_protein.pdb\n"
     ]
    },
    {
     "name": "stderr",
     "output_type": "stream",
     "text": [
      " 45%|██████████████████████████████████████████████████████████████████▌                                                                                  | 8693/19443 [07:31<09:52, 18.13it/s]"
     ]
    },
    {
     "name": "stdout",
     "output_type": "stream",
     "text": [
      "Python argument types in\n",
      "    rdkit.Chem.rdmolops.AssignAtomChiralTagsFromStructure(NoneType)\n",
      "did not match C++ signature:\n",
      "    AssignAtomChiralTagsFromStructure(RDKit::ROMol {lvalue} mol, int confId=-1, bool replaceExistingTags=True) /data/PDBbind/v2020-other-PL/1qon/1qon_protein.pdb\n"
     ]
    },
    {
     "name": "stderr",
     "output_type": "stream",
     "text": [
      " 45%|██████████████████████████████████████████████████████████████████▊                                                                                  | 8720/19443 [07:33<10:12, 17.50it/s]"
     ]
    },
    {
     "name": "stdout",
     "output_type": "stream",
     "text": [
      "'3kck' /data/PDBbind/v2020-other-PL/3kck/3kck_protein.pdb\n"
     ]
    },
    {
     "name": "stderr",
     "output_type": "stream",
     "text": [
      " 48%|███████████████████████████████████████████████████████████████████████                                                                              | 9273/19443 [08:02<07:44, 21.89it/s]"
     ]
    },
    {
     "name": "stdout",
     "output_type": "stream",
     "text": [
      "'2pll' /data/PDBbind/v2020-other-PL/2pll/2pll_protein.pdb\n"
     ]
    },
    {
     "name": "stderr",
     "output_type": "stream",
     "text": [
      " 49%|█████████████████████████████████████████████████████████████████████████▏                                                                           | 9544/19443 [08:16<07:50, 21.05it/s]"
     ]
    },
    {
     "name": "stdout",
     "output_type": "stream",
     "text": [
      "'5hlm' /data/PDBbind/v2020-other-PL/5hlm/5hlm_protein.pdb\n"
     ]
    },
    {
     "name": "stderr",
     "output_type": "stream",
     "text": [
      " 53%|██████████████████████████████████████████████████████████████████████████████▍                                                                     | 10306/19443 [08:58<10:16, 14.83it/s]"
     ]
    },
    {
     "name": "stdout",
     "output_type": "stream",
     "text": [
      "Python argument types in\n",
      "    rdkit.Chem.rdmolops.AssignAtomChiralTagsFromStructure(NoneType)\n",
      "did not match C++ signature:\n",
      "    AssignAtomChiralTagsFromStructure(RDKit::ROMol {lvalue} mol, int confId=-1, bool replaceExistingTags=True) /data/PDBbind/v2020-other-PL/5xwr/5xwr_protein.pdb\n"
     ]
    },
    {
     "name": "stderr",
     "output_type": "stream",
     "text": [
      " 55%|█████████████████████████████████████████████████████████████████████████████████                                                                   | 10646/19443 [09:17<08:05, 18.13it/s]"
     ]
    },
    {
     "name": "stdout",
     "output_type": "stream",
     "text": [
      "Python argument types in\n",
      "    rdkit.Chem.rdmolops.AssignAtomChiralTagsFromStructure(NoneType)\n",
      "did not match C++ signature:\n",
      "    AssignAtomChiralTagsFromStructure(RDKit::ROMol {lvalue} mol, int confId=-1, bool replaceExistingTags=True) /data/PDBbind/v2020-other-PL/4kb7/4kb7_protein.pdb\n"
     ]
    },
    {
     "name": "stderr",
     "output_type": "stream",
     "text": [
      " 55%|█████████████████████████████████████████████████████████████████████████████████▏                                                                  | 10666/19443 [09:18<09:26, 15.48it/s]"
     ]
    },
    {
     "name": "stdout",
     "output_type": "stream",
     "text": [
      "'5ujo' /data/PDBbind/v2020-other-PL/5ujo/5ujo_protein.pdb\n"
     ]
    },
    {
     "name": "stderr",
     "output_type": "stream",
     "text": [
      " 57%|████████████████████████████████████████████████████████████████████████████████████▎                                                               | 11080/19443 [09:39<07:36, 18.31it/s]"
     ]
    },
    {
     "name": "stdout",
     "output_type": "stream",
     "text": [
      "Python argument types in\n",
      "    rdkit.Chem.rdmolops.AssignAtomChiralTagsFromStructure(NoneType)\n",
      "did not match C++ signature:\n",
      "    AssignAtomChiralTagsFromStructure(RDKit::ROMol {lvalue} mol, int confId=-1, bool replaceExistingTags=True) /data/PDBbind/v2020-other-PL/4x1r/4x1r_protein.pdb\n"
     ]
    },
    {
     "name": "stderr",
     "output_type": "stream",
     "text": [
      " 57%|████████████████████████████████████████████████████████████████████████████████████▊                                                               | 11141/19443 [09:41<05:52, 23.58it/s]"
     ]
    },
    {
     "name": "stdout",
     "output_type": "stream",
     "text": [
      "Python argument types in\n",
      "    rdkit.Chem.rdmolops.AssignAtomChiralTagsFromStructure(NoneType)\n",
      "did not match C++ signature:\n",
      "    AssignAtomChiralTagsFromStructure(RDKit::ROMol {lvalue} mol, int confId=-1, bool replaceExistingTags=True) /data/PDBbind/v2020-other-PL/2brh/2brh_protein.pdb\n"
     ]
    },
    {
     "name": "stderr",
     "output_type": "stream",
     "text": [
      " 57%|████████████████████████████████████████████████████████████████████████████████████▉                                                               | 11164/19443 [09:42<06:45, 20.42it/s]"
     ]
    },
    {
     "name": "stdout",
     "output_type": "stream",
     "text": [
      "'3bwf' /data/PDBbind/v2020-other-PL/3bwf/3bwf_protein.pdb\n"
     ]
    },
    {
     "name": "stderr",
     "output_type": "stream",
     "text": [
      " 60%|████████████████████████████████████████████████████████████████████████████████████████▎                                                           | 11603/19443 [10:07<07:15, 18.00it/s]"
     ]
    },
    {
     "name": "stdout",
     "output_type": "stream",
     "text": [
      "Python argument types in\n",
      "    rdkit.Chem.rdmolops.AssignAtomChiralTagsFromStructure(NoneType)\n",
      "did not match C++ signature:\n",
      "    AssignAtomChiralTagsFromStructure(RDKit::ROMol {lvalue} mol, int confId=-1, bool replaceExistingTags=True) /data/PDBbind/v2020-other-PL/1ai6/1ai6_protein.pdb\n"
     ]
    },
    {
     "name": "stderr",
     "output_type": "stream",
     "text": [
      " 60%|████████████████████████████████████████████████████████████████████████████████████████▉                                                           | 11684/19443 [10:11<06:21, 20.31it/s]"
     ]
    },
    {
     "name": "stdout",
     "output_type": "stream",
     "text": [
      "'3vjs' /data/PDBbind/v2020-other-PL/3vjs/3vjs_protein.pdb\n"
     ]
    },
    {
     "name": "stderr",
     "output_type": "stream",
     "text": [
      " 60%|█████████████████████████████████████████████████████████████████████████████████████████▏                                                          | 11712/19443 [10:13<05:44, 22.45it/s]"
     ]
    },
    {
     "name": "stdout",
     "output_type": "stream",
     "text": [
      "'2foy' /data/PDBbind/v2020-other-PL/2foy/2foy_protein.pdb\n"
     ]
    },
    {
     "name": "stderr",
     "output_type": "stream",
     "text": [
      " 62%|████████████████████████████████████████████████████████████████████████████████████████████▏                                                       | 12103/19443 [10:33<05:51, 20.88it/s]"
     ]
    },
    {
     "name": "stdout",
     "output_type": "stream",
     "text": [
      "Python argument types in\n",
      "    rdkit.Chem.rdmolops.AssignAtomChiralTagsFromStructure(NoneType)\n",
      "did not match C++ signature:\n",
      "    AssignAtomChiralTagsFromStructure(RDKit::ROMol {lvalue} mol, int confId=-1, bool replaceExistingTags=True) /data/PDBbind/v2020-other-PL/5nwh/5nwh_protein.pdb\n",
      "'1a7x' /data/PDBbind/v2020-other-PL/1a7x/1a7x_protein.pdb\n"
     ]
    },
    {
     "name": "stderr",
     "output_type": "stream",
     "text": [
      " 62%|████████████████████████████████████████████████████████████████████████████████████████████▏                                                       | 12117/19443 [10:34<07:49, 15.59it/s]"
     ]
    },
    {
     "name": "stdout",
     "output_type": "stream",
     "text": [
      "Python argument types in\n",
      "    rdkit.Chem.rdmolops.AssignAtomChiralTagsFromStructure(NoneType)\n",
      "did not match C++ signature:\n",
      "    AssignAtomChiralTagsFromStructure(RDKit::ROMol {lvalue} mol, int confId=-1, bool replaceExistingTags=True) /data/PDBbind/v2020-other-PL/4bxn/4bxn_protein.pdb\n"
     ]
    },
    {
     "name": "stderr",
     "output_type": "stream",
     "text": [
      " 64%|██████████████████████████████████████████████████████████████████████████████████████████████▉                                                     | 12467/19443 [10:54<05:50, 19.92it/s]"
     ]
    },
    {
     "name": "stdout",
     "output_type": "stream",
     "text": [
      "Python argument types in\n",
      "    rdkit.Chem.rdmolops.AssignAtomChiralTagsFromStructure(NoneType)\n",
      "did not match C++ signature:\n",
      "    AssignAtomChiralTagsFromStructure(RDKit::ROMol {lvalue} mol, int confId=-1, bool replaceExistingTags=True) /data/PDBbind/v2020-other-PL/2g83/2g83_protein.pdb\n"
     ]
    },
    {
     "name": "stderr",
     "output_type": "stream",
     "text": [
      " 66%|█████████████████████████████████████████████████████████████████████████████████████████████████▋                                                  | 12838/19443 [11:17<04:55, 22.33it/s]"
     ]
    },
    {
     "name": "stdout",
     "output_type": "stream",
     "text": [
      "Python argument types in\n",
      "    rdkit.Chem.rdmolops.AssignAtomChiralTagsFromStructure(NoneType)\n",
      "did not match C++ signature:\n",
      "    AssignAtomChiralTagsFromStructure(RDKit::ROMol {lvalue} mol, int confId=-1, bool replaceExistingTags=True) /data/PDBbind/v2020-other-PL/2nwn/2nwn_protein.pdb\n"
     ]
    },
    {
     "name": "stderr",
     "output_type": "stream",
     "text": [
      " 69%|█████████████████████████████████████████████████████████████████████████████████████████████████████▋                                              | 13356/19443 [11:46<04:48, 21.11it/s]"
     ]
    },
    {
     "name": "stdout",
     "output_type": "stream",
     "text": [
      "'3qlb' /data/PDBbind/v2020-other-PL/3qlb/3qlb_protein.pdb\n"
     ]
    },
    {
     "name": "stderr",
     "output_type": "stream",
     "text": [
      " 69%|██████████████████████████████████████████████████████████████████████████████████████████████████████▌                                             | 13481/19443 [11:53<04:41, 21.17it/s]"
     ]
    },
    {
     "name": "stdout",
     "output_type": "stream",
     "text": [
      "Python argument types in\n",
      "    rdkit.Chem.rdmolops.AssignAtomChiralTagsFromStructure(NoneType)\n",
      "did not match C++ signature:\n",
      "    AssignAtomChiralTagsFromStructure(RDKit::ROMol {lvalue} mol, int confId=-1, bool replaceExistingTags=True) /data/PDBbind/v2020-other-PL/6qyn/6qyn_protein.pdb\n"
     ]
    },
    {
     "name": "stderr",
     "output_type": "stream",
     "text": [
      " 70%|██████████████████████████████████████████████████████████████████████████████████████████████████████▉                                             | 13523/19443 [11:55<03:38, 27.08it/s]"
     ]
    },
    {
     "name": "stdout",
     "output_type": "stream",
     "text": [
      "'3vjt' /data/PDBbind/v2020-other-PL/3vjt/3vjt_protein.pdb\n"
     ]
    },
    {
     "name": "stderr",
     "output_type": "stream",
     "text": [
      " 74%|█████████████████████████████████████████████████████████████████████████████████████████████████████████████                                       | 14330/19443 [12:39<04:05, 20.86it/s]"
     ]
    },
    {
     "name": "stdout",
     "output_type": "stream",
     "text": [
      "Python argument types in\n",
      "    rdkit.Chem.rdmolops.AssignAtomChiralTagsFromStructure(NoneType)\n",
      "did not match C++ signature:\n",
      "    AssignAtomChiralTagsFromStructure(RDKit::ROMol {lvalue} mol, int confId=-1, bool replaceExistingTags=True) /data/PDBbind/v2020-other-PL/4m3b/4m3b_protein.pdb\n"
     ]
    },
    {
     "name": "stderr",
     "output_type": "stream",
     "text": [
      " 75%|███████████████████████████████████████████████████████████████████████████████████████████████████████████████▌                                    | 14651/19443 [12:56<04:14, 18.83it/s]"
     ]
    },
    {
     "name": "stdout",
     "output_type": "stream",
     "text": [
      "Python argument types in\n",
      "    rdkit.Chem.rdmolops.AssignAtomChiralTagsFromStructure(NoneType)\n",
      "did not match C++ signature:\n",
      "    AssignAtomChiralTagsFromStructure(RDKit::ROMol {lvalue} mol, int confId=-1, bool replaceExistingTags=True) /data/PDBbind/v2020-other-PL/6a30/6a30_protein.pdb\n"
     ]
    },
    {
     "name": "stderr",
     "output_type": "stream",
     "text": [
      " 76%|████████████████████████████████████████████████████████████████████████████████████████████████████████████████▌                                   | 14795/19443 [13:04<03:51, 20.04it/s]"
     ]
    },
    {
     "name": "stdout",
     "output_type": "stream",
     "text": [
      "'2fou' /data/PDBbind/v2020-other-PL/2fou/2fou_protein.pdb\n"
     ]
    },
    {
     "name": "stderr",
     "output_type": "stream",
     "text": [
      " 76%|████████████████████████████████████████████████████████████████████████████████████████████████████████████████▋                                   | 14809/19443 [13:04<02:43, 28.33it/s]"
     ]
    },
    {
     "name": "stdout",
     "output_type": "stream",
     "text": [
      "'1h07' /data/PDBbind/v2020-other-PL/1h07/1h07_protein.pdb\n"
     ]
    },
    {
     "name": "stderr",
     "output_type": "stream",
     "text": [
      " 77%|█████████████████████████████████████████████████████████████████████████████████████████████████████████████████▍                                  | 14895/19443 [13:09<04:13, 17.97it/s]"
     ]
    },
    {
     "name": "stdout",
     "output_type": "stream",
     "text": [
      "Python argument types in\n",
      "    rdkit.Chem.rdmolops.AssignAtomChiralTagsFromStructure(NoneType)\n",
      "did not match C++ signature:\n",
      "    AssignAtomChiralTagsFromStructure(RDKit::ROMol {lvalue} mol, int confId=-1, bool replaceExistingTags=True) /data/PDBbind/v2020-other-PL/2c5y/2c5y_protein.pdb\n"
     ]
    },
    {
     "name": "stderr",
     "output_type": "stream",
     "text": [
      " 81%|███████████████████████████████████████████████████████████████████████████████████████████████████████████████████████▊                            | 15732/19443 [13:54<03:14, 19.09it/s]"
     ]
    },
    {
     "name": "stdout",
     "output_type": "stream",
     "text": [
      "Python argument types in\n",
      "    rdkit.Chem.rdmolops.AssignAtomChiralTagsFromStructure(NoneType)\n",
      "did not match C++ signature:\n",
      "    AssignAtomChiralTagsFromStructure(RDKit::ROMol {lvalue} mol, int confId=-1, bool replaceExistingTags=True) /data/PDBbind/v2020-other-PL/6mu1/6mu1_protein.pdb\n"
     ]
    },
    {
     "name": "stderr",
     "output_type": "stream",
     "text": [
      " 81%|████████████████████████████████████████████████████████████████████████████████████████████████████████████████████████▏                           | 15793/19443 [13:57<02:23, 25.44it/s]"
     ]
    },
    {
     "name": "stdout",
     "output_type": "stream",
     "text": [
      "'1qpf' /data/PDBbind/v2020-other-PL/1qpf/1qpf_protein.pdb\n"
     ]
    },
    {
     "name": "stderr",
     "output_type": "stream",
     "text": [
      " 82%|█████████████████████████████████████████████████████████████████████████████████████████████████████████████████████████▍                          | 15961/19443 [14:06<03:25, 16.92it/s]"
     ]
    },
    {
     "name": "stdout",
     "output_type": "stream",
     "text": [
      "'3cst' /data/PDBbind/v2020-other-PL/3cst/3cst_protein.pdb\n"
     ]
    },
    {
     "name": "stderr",
     "output_type": "stream",
     "text": [
      " 87%|█████████████████████████████████████████████████████████████████████████████████████████████████████████████████████████████████▎                  | 16983/19443 [15:02<01:26, 28.52it/s]"
     ]
    },
    {
     "name": "stdout",
     "output_type": "stream",
     "text": [
      "'2fov' /data/PDBbind/v2020-other-PL/2fov/2fov_protein.pdb\n"
     ]
    },
    {
     "name": "stderr",
     "output_type": "stream",
     "text": [
      " 88%|██████████████████████████████████████████████████████████████████████████████████████████████████████████████████████████████████▌                 | 17155/19443 [15:11<01:41, 22.44it/s]"
     ]
    },
    {
     "name": "stdout",
     "output_type": "stream",
     "text": [
      "'3bho' /data/PDBbind/v2020-other-PL/3bho/3bho_protein.pdb\n"
     ]
    },
    {
     "name": "stderr",
     "output_type": "stream",
     "text": [
      " 88%|██████████████████████████████████████████████████████████████████████████████████████████████████████████████████████████████████▋                 | 17161/19443 [15:11<02:09, 17.62it/s]"
     ]
    },
    {
     "name": "stdout",
     "output_type": "stream",
     "text": [
      "Python argument types in\n",
      "    rdkit.Chem.rdmolops.AssignAtomChiralTagsFromStructure(NoneType)\n",
      "did not match C++ signature:\n",
      "    AssignAtomChiralTagsFromStructure(RDKit::ROMol {lvalue} mol, int confId=-1, bool replaceExistingTags=True) /data/PDBbind/v2020-other-PL/4m3f/4m3f_protein.pdb\n"
     ]
    },
    {
     "name": "stderr",
     "output_type": "stream",
     "text": [
      " 91%|██████████████████████████████████████████████████████████████████████████████████████████████████████████████████████████████████████▊             | 17703/19443 [15:43<01:20, 21.50it/s]"
     ]
    },
    {
     "name": "stdout",
     "output_type": "stream",
     "text": [
      "'4rlp' /data/PDBbind/v2020-other-PL/4rlp/4rlp_protein.pdb\n"
     ]
    },
    {
     "name": "stderr",
     "output_type": "stream",
     "text": [
      " 92%|███████████████████████████████████████████████████████████████████████████████████████████████████████████████████████████████████████▉            | 17861/19443 [15:51<01:03, 24.93it/s]"
     ]
    },
    {
     "name": "stdout",
     "output_type": "stream",
     "text": [
      "'2aoh' /data/PDBbind/v2020-other-PL/2aoh/2aoh_protein.pdb\n"
     ]
    },
    {
     "name": "stderr",
     "output_type": "stream",
     "text": [
      " 93%|█████████████████████████████████████████████████████████████████████████████████████████████████████████████████████████████████████████▋          | 18084/19443 [16:02<00:53, 25.47it/s]"
     ]
    },
    {
     "name": "stdout",
     "output_type": "stream",
     "text": [
      "'3fy0' /data/PDBbind/v2020-other-PL/3fy0/3fy0_protein.pdb\n"
     ]
    },
    {
     "name": "stderr",
     "output_type": "stream",
     "text": [
      " 94%|███████████████████████████████████████████████████████████████████████████████████████████████████████████████████████████████████████████▏        | 18284/19443 [16:13<01:06, 17.47it/s]"
     ]
    },
    {
     "name": "stdout",
     "output_type": "stream",
     "text": [
      "Python argument types in\n",
      "    rdkit.Chem.rdmolops.AssignAtomChiralTagsFromStructure(NoneType)\n",
      "did not match C++ signature:\n",
      "    AssignAtomChiralTagsFromStructure(RDKit::ROMol {lvalue} mol, int confId=-1, bool replaceExistingTags=True) /data/PDBbind/v2020-other-PL/2r1w/2r1w_protein.pdb\n"
     ]
    },
    {
     "name": "stderr",
     "output_type": "stream",
     "text": [
      " 95%|████████████████████████████████████████████████████████████████████████████████████████████████████████████████████████████████████████████▊       | 18504/19443 [16:23<00:39, 23.56it/s]"
     ]
    },
    {
     "name": "stdout",
     "output_type": "stream",
     "text": [
      "Python argument types in\n",
      "    rdkit.Chem.rdmolops.AssignAtomChiralTagsFromStructure(NoneType)\n",
      "did not match C++ signature:\n",
      "    AssignAtomChiralTagsFromStructure(RDKit::ROMol {lvalue} mol, int confId=-1, bool replaceExistingTags=True) /data/PDBbind/v2020-other-PL/5wyr/5wyr_protein.pdb\n"
     ]
    },
    {
     "name": "stderr",
     "output_type": "stream",
     "text": [
      " 96%|██████████████████████████████████████████████████████████████████████████████████████████████████████████████████████████████████████████████▍     | 18712/19443 [16:35<00:36, 20.01it/s]"
     ]
    },
    {
     "name": "stdout",
     "output_type": "stream",
     "text": [
      "Python argument types in\n",
      "    rdkit.Chem.rdmolops.AssignAtomChiralTagsFromStructure(NoneType)\n",
      "did not match C++ signature:\n",
      "    AssignAtomChiralTagsFromStructure(RDKit::ROMol {lvalue} mol, int confId=-1, bool replaceExistingTags=True) /data/PDBbind/v2020-other-PL/3gpe/3gpe_protein.pdb\n"
     ]
    },
    {
     "name": "stderr",
     "output_type": "stream",
     "text": [
      " 97%|███████████████████████████████████████████████████████████████████████████████████████████████████████████████████████████████████████████████▌    | 18865/19443 [16:43<00:27, 20.73it/s]"
     ]
    },
    {
     "name": "stdout",
     "output_type": "stream",
     "text": [
      "Python argument types in\n",
      "    rdkit.Chem.rdmolops.AssignAtomChiralTagsFromStructure(NoneType)\n",
      "did not match C++ signature:\n",
      "    AssignAtomChiralTagsFromStructure(RDKit::ROMol {lvalue} mol, int confId=-1, bool replaceExistingTags=True) /data/PDBbind/v2020-other-PL/1f92/1f92_protein.pdb\n"
     ]
    },
    {
     "name": "stderr",
     "output_type": "stream",
     "text": [
      "100%|████████████████████████████████████████████████████████████████████████████████████████████████████████████████████████████████████████████████████| 19443/19443 [17:16<00:00, 18.77it/s]\n"
     ]
    }
   ],
   "source": [
    "pocket = {}\n",
    "\n",
    "for pdb, p_file in tqdm( proteins.items() ):\n",
    "    try:\n",
    "        protein_coord = get_protein_coordinate( p_file )\n",
    "        ligand_coord  = get_ligand_coordinate( ligs[pdb] )\n",
    "        pairwise_dist = calculate_atom_pair_distance( protein_coord, ligand_coord )\n",
    "\n",
    "        selected_atom_index =  torch.where( pairwise_dist < 8 )[0] \n",
    "        pocket_mol = get_pocket_in_protein( p_file, selected_atom_index)    \n",
    "        pocket[pdb] = pocket_mol\n",
    "        \n",
    "    except Exception as E:\n",
    "        print(E, p_file)\n",
    "    # break"
   ]
  },
  {
   "cell_type": "code",
   "execution_count": 25,
   "id": "9ad164b8-7a6b-419f-852a-3382a359626b",
   "metadata": {
    "tags": []
   },
   "outputs": [],
   "source": [
    "poc = {}\n",
    "for i in pocket:\n",
    "    if pocket[i] == None:\n",
    "        pass\n",
    "    else:\n",
    "        poc[i] = pocket[i]"
   ]
  },
  {
   "cell_type": "code",
   "execution_count": 27,
   "id": "ead5c41d-6bce-449b-86fb-87ff0148d48e",
   "metadata": {
    "tags": []
   },
   "outputs": [],
   "source": [
    "save_obj( poc, '/data/PDBbind/pocket' )"
   ]
  },
  {
   "cell_type": "code",
   "execution_count": 28,
   "id": "31f241da-d490-4076-82af-a99422e968b8",
   "metadata": {
    "tags": []
   },
   "outputs": [
    {
     "data": {
      "text/plain": [
       "19391"
      ]
     },
     "execution_count": 28,
     "metadata": {},
     "output_type": "execute_result"
    }
   ],
   "source": [
    "len(poc)"
   ]
  },
  {
   "cell_type": "code",
   "execution_count": null,
   "id": "4dc5ceaa-f994-42f8-8c58-888497255c66",
   "metadata": {},
   "outputs": [],
   "source": []
  }
 ],
 "metadata": {
  "kernelspec": {
   "display_name": "PLBA",
   "language": "python",
   "name": "plba"
  },
  "language_info": {
   "codemirror_mode": {
    "name": "ipython",
    "version": 3
   },
   "file_extension": ".py",
   "mimetype": "text/x-python",
   "name": "python",
   "nbconvert_exporter": "python",
   "pygments_lexer": "ipython3",
   "version": "3.9.16"
  }
 },
 "nbformat": 4,
 "nbformat_minor": 5
}
